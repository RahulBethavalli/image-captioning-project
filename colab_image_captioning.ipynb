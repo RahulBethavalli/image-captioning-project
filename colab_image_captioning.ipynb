{
  "nbformat": 4,
  "nbformat_minor": 5,
  "metadata": {
    "kernelspec": {
      "display_name": "Python 3",
      "language": "python",
      "name": "python3"
    },
    "language_info": {
      "codemirror_mode": {
        "name": "ipython",
        "version": 3
      },
      "file_extension": ".py",
      "mimetype": "text/x-python",
      "name": "python",
      "nbconvert_exporter": "python",
      "pygments_lexer": "ipython3",
      "version": "3.8.2"
    },
    "colab": {
      "name": "colab_image_captioning.ipynb",
      "provenance": [],
      "collapsed_sections": []
    },
    "accelerator": "GPU",
    "widgets": {
      "application/vnd.jupyter.widget-state+json": {
        "9ccd0f3baac4469e868262a6156518d0": {
          "model_module": "@jupyter-widgets/controls",
          "model_name": "HBoxModel",
          "model_module_version": "1.5.0",
          "state": {
            "_view_name": "HBoxView",
            "_dom_classes": [],
            "_model_name": "HBoxModel",
            "_view_module": "@jupyter-widgets/controls",
            "_model_module_version": "1.5.0",
            "_view_count": null,
            "_view_module_version": "1.5.0",
            "box_style": "",
            "layout": "IPY_MODEL_4daf329865494847a56b0bdc55add463",
            "_model_module": "@jupyter-widgets/controls",
            "children": [
              "IPY_MODEL_b3806aa8411f46309899a8d3a04bd964",
              "IPY_MODEL_2150d0ca16fd492881fe58e5a02b4273"
            ]
          }
        },
        "4daf329865494847a56b0bdc55add463": {
          "model_module": "@jupyter-widgets/base",
          "model_name": "LayoutModel",
          "model_module_version": "1.2.0",
          "state": {
            "_view_name": "LayoutView",
            "grid_template_rows": null,
            "right": null,
            "justify_content": null,
            "_view_module": "@jupyter-widgets/base",
            "overflow": null,
            "_model_module_version": "1.2.0",
            "_view_count": null,
            "flex_flow": null,
            "width": null,
            "min_width": null,
            "border": null,
            "align_items": null,
            "bottom": null,
            "_model_module": "@jupyter-widgets/base",
            "top": null,
            "grid_column": null,
            "overflow_y": null,
            "overflow_x": null,
            "grid_auto_flow": null,
            "grid_area": null,
            "grid_template_columns": null,
            "flex": null,
            "_model_name": "LayoutModel",
            "justify_items": null,
            "grid_row": null,
            "max_height": null,
            "align_content": null,
            "visibility": null,
            "align_self": null,
            "height": null,
            "min_height": null,
            "padding": null,
            "grid_auto_rows": null,
            "grid_gap": null,
            "max_width": null,
            "order": null,
            "_view_module_version": "1.2.0",
            "grid_template_areas": null,
            "object_position": null,
            "object_fit": null,
            "grid_auto_columns": null,
            "margin": null,
            "display": null,
            "left": null
          }
        },
        "b3806aa8411f46309899a8d3a04bd964": {
          "model_module": "@jupyter-widgets/controls",
          "model_name": "FloatProgressModel",
          "model_module_version": "1.5.0",
          "state": {
            "_view_name": "ProgressView",
            "style": "IPY_MODEL_7560694a7edc496ca7da90a81ad3f976",
            "_dom_classes": [],
            "description": "100%",
            "_model_name": "FloatProgressModel",
            "bar_style": "success",
            "max": 108949747,
            "_view_module": "@jupyter-widgets/controls",
            "_model_module_version": "1.5.0",
            "value": 108949747,
            "_view_count": null,
            "_view_module_version": "1.5.0",
            "orientation": "horizontal",
            "min": 0,
            "description_tooltip": null,
            "_model_module": "@jupyter-widgets/controls",
            "layout": "IPY_MODEL_06fb13dc37c144269175ea9d9d57ab52"
          }
        },
        "2150d0ca16fd492881fe58e5a02b4273": {
          "model_module": "@jupyter-widgets/controls",
          "model_name": "HTMLModel",
          "model_module_version": "1.5.0",
          "state": {
            "_view_name": "HTMLView",
            "style": "IPY_MODEL_60fc89255ece432080c8c91f10899273",
            "_dom_classes": [],
            "description": "",
            "_model_name": "HTMLModel",
            "placeholder": "​",
            "_view_module": "@jupyter-widgets/controls",
            "_model_module_version": "1.5.0",
            "value": " 104M/104M [00:03&lt;00:00, 35.3MB/s]",
            "_view_count": null,
            "_view_module_version": "1.5.0",
            "description_tooltip": null,
            "_model_module": "@jupyter-widgets/controls",
            "layout": "IPY_MODEL_b68fb32584c64d5d87eb05dd0e6f37e0"
          }
        },
        "7560694a7edc496ca7da90a81ad3f976": {
          "model_module": "@jupyter-widgets/controls",
          "model_name": "ProgressStyleModel",
          "model_module_version": "1.5.0",
          "state": {
            "_view_name": "StyleView",
            "_model_name": "ProgressStyleModel",
            "description_width": "initial",
            "_view_module": "@jupyter-widgets/base",
            "_model_module_version": "1.5.0",
            "_view_count": null,
            "_view_module_version": "1.2.0",
            "bar_color": null,
            "_model_module": "@jupyter-widgets/controls"
          }
        },
        "06fb13dc37c144269175ea9d9d57ab52": {
          "model_module": "@jupyter-widgets/base",
          "model_name": "LayoutModel",
          "model_module_version": "1.2.0",
          "state": {
            "_view_name": "LayoutView",
            "grid_template_rows": null,
            "right": null,
            "justify_content": null,
            "_view_module": "@jupyter-widgets/base",
            "overflow": null,
            "_model_module_version": "1.2.0",
            "_view_count": null,
            "flex_flow": null,
            "width": null,
            "min_width": null,
            "border": null,
            "align_items": null,
            "bottom": null,
            "_model_module": "@jupyter-widgets/base",
            "top": null,
            "grid_column": null,
            "overflow_y": null,
            "overflow_x": null,
            "grid_auto_flow": null,
            "grid_area": null,
            "grid_template_columns": null,
            "flex": null,
            "_model_name": "LayoutModel",
            "justify_items": null,
            "grid_row": null,
            "max_height": null,
            "align_content": null,
            "visibility": null,
            "align_self": null,
            "height": null,
            "min_height": null,
            "padding": null,
            "grid_auto_rows": null,
            "grid_gap": null,
            "max_width": null,
            "order": null,
            "_view_module_version": "1.2.0",
            "grid_template_areas": null,
            "object_position": null,
            "object_fit": null,
            "grid_auto_columns": null,
            "margin": null,
            "display": null,
            "left": null
          }
        },
        "60fc89255ece432080c8c91f10899273": {
          "model_module": "@jupyter-widgets/controls",
          "model_name": "DescriptionStyleModel",
          "model_module_version": "1.5.0",
          "state": {
            "_view_name": "StyleView",
            "_model_name": "DescriptionStyleModel",
            "description_width": "",
            "_view_module": "@jupyter-widgets/base",
            "_model_module_version": "1.5.0",
            "_view_count": null,
            "_view_module_version": "1.2.0",
            "_model_module": "@jupyter-widgets/controls"
          }
        },
        "b68fb32584c64d5d87eb05dd0e6f37e0": {
          "model_module": "@jupyter-widgets/base",
          "model_name": "LayoutModel",
          "model_module_version": "1.2.0",
          "state": {
            "_view_name": "LayoutView",
            "grid_template_rows": null,
            "right": null,
            "justify_content": null,
            "_view_module": "@jupyter-widgets/base",
            "overflow": null,
            "_model_module_version": "1.2.0",
            "_view_count": null,
            "flex_flow": null,
            "width": null,
            "min_width": null,
            "border": null,
            "align_items": null,
            "bottom": null,
            "_model_module": "@jupyter-widgets/base",
            "top": null,
            "grid_column": null,
            "overflow_y": null,
            "overflow_x": null,
            "grid_auto_flow": null,
            "grid_area": null,
            "grid_template_columns": null,
            "flex": null,
            "_model_name": "LayoutModel",
            "justify_items": null,
            "grid_row": null,
            "max_height": null,
            "align_content": null,
            "visibility": null,
            "align_self": null,
            "height": null,
            "min_height": null,
            "padding": null,
            "grid_auto_rows": null,
            "grid_gap": null,
            "max_width": null,
            "order": null,
            "_view_module_version": "1.2.0",
            "grid_template_areas": null,
            "object_position": null,
            "object_fit": null,
            "grid_auto_columns": null,
            "margin": null,
            "display": null,
            "left": null
          }
        }
      }
    }
  },
  "cells": [
    {
      "cell_type": "code",
      "metadata": {
        "id": "f8b1eeb7-3e52-4c14-b1ef-6818f8c9435f"
      },
      "source": [
        "import torch.nn as nn\n",
        "import torchvision.models as models\n",
        "import torch\n",
        "import pandas as pd\n",
        "import torch.optim as optim \n",
        "from tqdm import tqdm"
      ],
      "id": "f8b1eeb7-3e52-4c14-b1ef-6818f8c9435f",
      "execution_count": 25,
      "outputs": []
    },
    {
      "cell_type": "code",
      "metadata": {
        "colab": {
          "base_uri": "https://localhost:8080/"
        },
        "id": "pHP0cRbAsTFR",
        "outputId": "67da3c3d-09c7-4a90-baca-58ca7e4e9161"
      },
      "source": [
        "from google.colab import drive\n",
        "drive.mount('/content/drive')"
      ],
      "id": "pHP0cRbAsTFR",
      "execution_count": 2,
      "outputs": [
        {
          "output_type": "stream",
          "text": [
            "Mounted at /content/drive\n"
          ],
          "name": "stdout"
        }
      ]
    },
    {
      "cell_type": "code",
      "metadata": {
        "colab": {
          "base_uri": "https://localhost:8080/",
          "height": 120,
          "referenced_widgets": [
            "9ccd0f3baac4469e868262a6156518d0",
            "4daf329865494847a56b0bdc55add463",
            "b3806aa8411f46309899a8d3a04bd964",
            "2150d0ca16fd492881fe58e5a02b4273",
            "7560694a7edc496ca7da90a81ad3f976",
            "06fb13dc37c144269175ea9d9d57ab52",
            "60fc89255ece432080c8c91f10899273",
            "b68fb32584c64d5d87eb05dd0e6f37e0"
          ]
        },
        "id": "88a31dab-243d-4637-bfbf-42bff2e48e25",
        "outputId": "9f82e8e5-1a48-4f12-d0a0-e58bb114cd8a"
      },
      "source": [
        "new_model = models.inception_v3(pretrained=True, aux_logits=False)\n",
        "new_model.fc"
      ],
      "id": "88a31dab-243d-4637-bfbf-42bff2e48e25",
      "execution_count": 3,
      "outputs": [
        {
          "output_type": "stream",
          "text": [
            "Downloading: \"https://download.pytorch.org/models/inception_v3_google-0cc3c7bd.pth\" to /root/.cache/torch/hub/checkpoints/inception_v3_google-0cc3c7bd.pth\n"
          ],
          "name": "stderr"
        },
        {
          "output_type": "display_data",
          "data": {
            "application/vnd.jupyter.widget-view+json": {
              "model_id": "9ccd0f3baac4469e868262a6156518d0",
              "version_minor": 0,
              "version_major": 2
            },
            "text/plain": [
              "HBox(children=(FloatProgress(value=0.0, max=108949747.0), HTML(value='')))"
            ]
          },
          "metadata": {
            "tags": []
          }
        },
        {
          "output_type": "stream",
          "text": [
            "\n"
          ],
          "name": "stdout"
        },
        {
          "output_type": "execute_result",
          "data": {
            "text/plain": [
              "Linear(in_features=2048, out_features=1000, bias=True)"
            ]
          },
          "metadata": {
            "tags": []
          },
          "execution_count": 3
        }
      ]
    },
    {
      "cell_type": "code",
      "metadata": {
        "id": "6aa39e1d-c28b-4a8d-a681-74f6bad86bfc"
      },
      "source": [
        "class EncoderCNN(nn.Module):\n",
        "    def __init__(self, embed_size, train_CNN=False):\n",
        "        super(EncoderCNN, self).__init__()\n",
        "        self.train_CNN = train_CNN\n",
        "        self.inception = models.inception_v3(pretrained=True, aux_logits=False)\n",
        "        self.inception.fc = nn.Linear(self.inception.fc.in_features, embed_size) #map to embed size then send to RNN\n",
        "        self.relu = nn.ReLU()\n",
        "        self.times = []\n",
        "        self.dropout = nn.Dropout(0.5)\n",
        "\n",
        "    def forward(self, images):\n",
        "        features = self.inception(images)\n",
        "        return self.dropout(self.relu(features))\n",
        "\n",
        "\n",
        "class DecoderRNN(nn.Module):\n",
        "    def __init__(self, embed_size, hidden_size, vocab_size, num_layers):\n",
        "        super(DecoderRNN, self).__init__()\n",
        "        self.embed = nn.Embedding(vocab_size, embed_size)\n",
        "        self.lstm = nn.LSTM(embed_size, hidden_size, num_layers)\n",
        "        self.linear = nn.Linear(hidden_size, vocab_size)\n",
        "        self.dropout = nn.Dropout(0.5)\n",
        "\n",
        "    def forward(self, features, captions):\n",
        "        embeddings = self.dropout(self.embed(captions))\n",
        "        embeddings = torch.cat((features.unsqueeze(0), embeddings), dim=0)\n",
        "        hiddens, _ = self.lstm(embeddings)\n",
        "        outputs = self.linear(hiddens)\n",
        "        return outputs\n",
        "\n",
        "\n",
        "class CNNtoRNN(nn.Module):\n",
        "    def __init__(self, embed_size, hidden_size, vocab_size, num_layers):\n",
        "        super(CNNtoRNN, self).__init__()\n",
        "        self.encoderCNN = EncoderCNN(embed_size)\n",
        "        self.decoderRNN = DecoderRNN(embed_size, hidden_size, vocab_size, num_layers)\n",
        "\n",
        "    def forward(self, images, captions):\n",
        "        features = self.encoderCNN(images)\n",
        "        outputs = self.decoderRNN(features, captions)\n",
        "        return outputs\n",
        "\n",
        "    def caption_image(self, image, vocabulary, max_length=50):\n",
        "        result_caption = []\n",
        "\n",
        "        with torch.no_grad():\n",
        "            x = self.encoderCNN(image).unsqueeze(0) # dimension for the batch\n",
        "            states = None\n",
        "\n",
        "            for _ in range(max_length):\n",
        "                hiddens, states = self.decoderRNN.lstm(x, states)\n",
        "                output = self.decoderRNN.linear(hiddens.squeeze(0))\n",
        "                predicted = output.argmax(1)  # word that has highest probability\n",
        "                result_caption.append(predicted.item())\n",
        "                x = self.decoderRNN.embed(predicted).unsqueeze(0)\n",
        "\n",
        "                if vocabulary.itos[predicted.item()] == \"<EOS>\":\n",
        "                    break\n",
        "\n",
        "        return [vocabulary.itos[idx] for idx in result_caption]"
      ],
      "id": "6aa39e1d-c28b-4a8d-a681-74f6bad86bfc",
      "execution_count": 4,
      "outputs": []
    },
    {
      "cell_type": "code",
      "metadata": {
        "id": "483b9611-d477-4ef3-ac1c-d06db7434c68"
      },
      "source": [
        "import os\n",
        "import pandas\n",
        "import spacy\n",
        "\n",
        "from torch.nn.utils.rnn import pad_sequence\n",
        "from torch.utils.data import DataLoader, Dataset\n",
        "\n",
        "from PIL import Image\n",
        "from torchvision.transforms import transforms"
      ],
      "id": "483b9611-d477-4ef3-ac1c-d06db7434c68",
      "execution_count": 5,
      "outputs": []
    },
    {
      "cell_type": "code",
      "metadata": {
        "id": "36dc53c5-d633-4717-8578-c83df809725e"
      },
      "source": [
        "spacy_eng = spacy.load(\"en_core_web_sm\")"
      ],
      "id": "36dc53c5-d633-4717-8578-c83df809725e",
      "execution_count": 6,
      "outputs": []
    },
    {
      "cell_type": "code",
      "metadata": {
        "id": "70933195-a932-4494-9388-269fe91ee98e"
      },
      "source": [
        "class Vocabulary:\n",
        "    def __init__(self, freq_threshold):\n",
        "        self.itos = {0: \"<PAD>\", 1: \"<SOS>\", 2: \"<EOS>\", 3: \"<UNK>\"}\n",
        "        self.stoi = {\"<PAD>\": 0, \"<SOS>\": 1, \"<EOS>\": 2, \"<UNK>\": 3}\n",
        "        self.freq_threshold = freq_threshold\n",
        "\n",
        "    def __len__(self):\n",
        "        return len(self.itos)\n",
        "\n",
        "    @staticmethod\n",
        "    def tokenizer_eng(text):\n",
        "        return [tok.text.lower() for tok in spacy_eng.tokenizer(text)]\n",
        "\n",
        "    def build_vocabulary(self, sentence_list):\n",
        "        frequencies = {}\n",
        "        idx = 4\n",
        "\n",
        "        for sentence in sentence_list:\n",
        "            for word in self.tokenizer_eng(sentence):\n",
        "                if word not in frequencies:\n",
        "                    frequencies[word] = 1\n",
        "\n",
        "                else:\n",
        "                    frequencies[word] += 1\n",
        "\n",
        "                if frequencies[word] == self.freq_threshold:\n",
        "                    self.stoi[word] = idx\n",
        "                    self.itos[idx] = word\n",
        "                    idx += 1\n",
        "\n",
        "    def numericalize(self, text):\n",
        "        tokenized_text = self.tokenizer_eng(text)\n",
        "\n",
        "        return [\n",
        "            self.stoi[token] if token in self.stoi else self.stoi[\"<UNK>\"]\n",
        "            for token in tokenized_text\n",
        "        ]"
      ],
      "id": "70933195-a932-4494-9388-269fe91ee98e",
      "execution_count": 7,
      "outputs": []
    },
    {
      "cell_type": "code",
      "metadata": {
        "colab": {
          "base_uri": "https://localhost:8080/",
          "height": 204
        },
        "id": "c5a6f7a3-c722-4fff-978c-66f876dd675d",
        "outputId": "1e5b03d5-04b3-4feb-9a71-a9e9fb2c1ef8"
      },
      "source": [
        "annotation = pandas.read_csv(\"/content/drive/My Drive/flickr8k/captions.txt\")\n",
        "annotation.head()"
      ],
      "id": "c5a6f7a3-c722-4fff-978c-66f876dd675d",
      "execution_count": 8,
      "outputs": [
        {
          "output_type": "execute_result",
          "data": {
            "text/html": [
              "<div>\n",
              "<style scoped>\n",
              "    .dataframe tbody tr th:only-of-type {\n",
              "        vertical-align: middle;\n",
              "    }\n",
              "\n",
              "    .dataframe tbody tr th {\n",
              "        vertical-align: top;\n",
              "    }\n",
              "\n",
              "    .dataframe thead th {\n",
              "        text-align: right;\n",
              "    }\n",
              "</style>\n",
              "<table border=\"1\" class=\"dataframe\">\n",
              "  <thead>\n",
              "    <tr style=\"text-align: right;\">\n",
              "      <th></th>\n",
              "      <th>image</th>\n",
              "      <th>caption</th>\n",
              "    </tr>\n",
              "  </thead>\n",
              "  <tbody>\n",
              "    <tr>\n",
              "      <th>0</th>\n",
              "      <td>1000268201_693b08cb0e.jpg</td>\n",
              "      <td>A child in a pink dress is climbing up a set o...</td>\n",
              "    </tr>\n",
              "    <tr>\n",
              "      <th>1</th>\n",
              "      <td>1000268201_693b08cb0e.jpg</td>\n",
              "      <td>A girl going into a wooden building .</td>\n",
              "    </tr>\n",
              "    <tr>\n",
              "      <th>2</th>\n",
              "      <td>1000268201_693b08cb0e.jpg</td>\n",
              "      <td>A little girl climbing into a wooden playhouse .</td>\n",
              "    </tr>\n",
              "    <tr>\n",
              "      <th>3</th>\n",
              "      <td>1000268201_693b08cb0e.jpg</td>\n",
              "      <td>A little girl climbing the stairs to her playh...</td>\n",
              "    </tr>\n",
              "    <tr>\n",
              "      <th>4</th>\n",
              "      <td>1000268201_693b08cb0e.jpg</td>\n",
              "      <td>A little girl in a pink dress going into a woo...</td>\n",
              "    </tr>\n",
              "  </tbody>\n",
              "</table>\n",
              "</div>"
            ],
            "text/plain": [
              "                       image                                            caption\n",
              "0  1000268201_693b08cb0e.jpg  A child in a pink dress is climbing up a set o...\n",
              "1  1000268201_693b08cb0e.jpg              A girl going into a wooden building .\n",
              "2  1000268201_693b08cb0e.jpg   A little girl climbing into a wooden playhouse .\n",
              "3  1000268201_693b08cb0e.jpg  A little girl climbing the stairs to her playh...\n",
              "4  1000268201_693b08cb0e.jpg  A little girl in a pink dress going into a woo..."
            ]
          },
          "metadata": {
            "tags": []
          },
          "execution_count": 8
        }
      ]
    },
    {
      "cell_type": "code",
      "metadata": {
        "colab": {
          "base_uri": "https://localhost:8080/"
        },
        "id": "7b8ca295-2ea4-4b91-996a-0abac472e5a2",
        "outputId": "3c85b357-d496-4a58-eb69-9ba4400f5f96"
      },
      "source": [
        "annotation['caption'].tolist()[:2]"
      ],
      "id": "7b8ca295-2ea4-4b91-996a-0abac472e5a2",
      "execution_count": 9,
      "outputs": [
        {
          "output_type": "execute_result",
          "data": {
            "text/plain": [
              "['A child in a pink dress is climbing up a set of stairs in an entry way .',\n",
              " 'A girl going into a wooden building .']"
            ]
          },
          "metadata": {
            "tags": []
          },
          "execution_count": 9
        }
      ]
    },
    {
      "cell_type": "code",
      "metadata": {
        "id": "0092f1b5-4e4a-472b-b468-97104e36acd6"
      },
      "source": [
        "class FlickrDataset(Dataset):\n",
        "    def __init__(self, root_dir=\"/content/drive/My Drive/flickr8k/images\", caption_path=\"/content/drive/My Drive/flickr8k/captions.txt\", transform=None, freq_threshold=5):\n",
        "        self.root_dir = root_dir\n",
        "        self.df = pd.read_csv(caption_path)\n",
        "        self.transform = transform\n",
        "\n",
        "        # Get img, caption columns\n",
        "        self.imgs = self.df[\"image\"]\n",
        "        self.captions = self.df[\"caption\"]\n",
        "\n",
        "        # Initialize vocabulary and build vocab\n",
        "        self.vocab = Vocabulary(freq_threshold)\n",
        "        self.vocab.build_vocabulary(self.captions.tolist())\n",
        "\n",
        "    def __len__(self):\n",
        "        return len(self.df)\n",
        "\n",
        "    def __getitem__(self, index):\n",
        "        caption = self.captions[index]\n",
        "        img_id = self.imgs[index]\n",
        "        img = Image.open(os.path.join(self.root_dir, img_id)).convert(\"RGB\")\n",
        "\n",
        "        if self.transform is not None:\n",
        "            img = self.transform(img)\n",
        "\n",
        "        numericalized_caption = [self.vocab.stoi[\"<SOS>\"]]\n",
        "        numericalized_caption += self.vocab.numericalize(caption)\n",
        "        numericalized_caption.append(self.vocab.stoi[\"<EOS>\"])\n",
        "\n",
        "        return img, torch.tensor(numericalized_caption)"
      ],
      "id": "0092f1b5-4e4a-472b-b468-97104e36acd6",
      "execution_count": 10,
      "outputs": []
    },
    {
      "cell_type": "code",
      "metadata": {
        "id": "e7280ac7-fae4-4e68-bbd8-b7414337f28e"
      },
      "source": [
        "class MyCollate:\n",
        "    def __init__(self, pad_idx):\n",
        "        self.pad_idx = pad_idx\n",
        "\n",
        "    def __call__(self, batch):\n",
        "        imgs = [item[0].unsqueeze(0) for item in batch]\n",
        "        imgs = torch.cat(imgs, dim=0)\n",
        "        targets = [item[1] for item in batch]\n",
        "        targets = pad_sequence(targets, batch_first=False, padding_value=self.pad_idx)\n",
        "\n",
        "        return imgs, targets"
      ],
      "id": "e7280ac7-fae4-4e68-bbd8-b7414337f28e",
      "execution_count": 11,
      "outputs": []
    },
    {
      "cell_type": "code",
      "metadata": {
        "id": "71850f13-be30-4026-92fa-1645b680ce42"
      },
      "source": [
        "def get_loader(\n",
        "    root_folder,\n",
        "    annotation_file,\n",
        "    transform,\n",
        "    batch_size=32,\n",
        "    num_workers=8,\n",
        "    shuffle=True,\n",
        "    pin_memory=True,\n",
        "):\n",
        "    dataset = FlickrDataset(root_folder, annotation_file, transform=transform)\n",
        "\n",
        "    pad_idx = dataset.vocab.stoi[\"<PAD>\"]\n",
        "\n",
        "    loader = DataLoader(\n",
        "        dataset=dataset,\n",
        "        batch_size=batch_size,\n",
        "        num_workers=num_workers,\n",
        "        shuffle=shuffle,\n",
        "        pin_memory=pin_memory,\n",
        "        collate_fn=MyCollate(pad_idx=pad_idx),\n",
        "    )\n",
        "\n",
        "    return loader, dataset"
      ],
      "id": "71850f13-be30-4026-92fa-1645b680ce42",
      "execution_count": 18,
      "outputs": []
    },
    {
      "cell_type": "code",
      "metadata": {
        "id": "2d636d66-3ab2-42f8-a60d-e34c7e68d86c"
      },
      "source": [
        "def save_checkpoint(state, filename = \"/content/drive/My Drive/my_checkpoint.pth.tar\"):\n",
        "    print(\"saving checkpoint!\")\n",
        "    torch.save(state, filename)"
      ],
      "id": "2d636d66-3ab2-42f8-a60d-e34c7e68d86c",
      "execution_count": 19,
      "outputs": []
    },
    {
      "cell_type": "code",
      "metadata": {
        "id": "bbd6cdf6-8993-4a54-8f52-4501ff7ae47b"
      },
      "source": [
        "def load_checkpoint(checkpoint, model, optimizer):\n",
        "    print(\"loading checkpoint!\")\n",
        "    model.load_state_dict(checkpoint[\"state_dict\"])\n",
        "    model.load_state_optimizer(checkpoint[\"optimizer\"])\n",
        "    step = checkpoint[\"step\"]\n",
        "    return step"
      ],
      "id": "bbd6cdf6-8993-4a54-8f52-4501ff7ae47b",
      "execution_count": 20,
      "outputs": []
    },
    {
      "cell_type": "code",
      "metadata": {
        "colab": {
          "base_uri": "https://localhost:8080/"
        },
        "id": "afcbeffd-5b3d-429a-9880-23e2f3a2c3b5",
        "outputId": "c35eb89f-b7ae-4524-d9dc-a64f4bafc560"
      },
      "source": [
        "train_loader, dataset = get_loader(\n",
        "        root_dir=\"/content/drive/My Drive/flickr8k/images\",\n",
        "        caption_path=\"/content/drive/My Drive/flickr8k/captions.txt\",\n",
        "        transform=transform,\n",
        "        num_workers=2,\n",
        "    )"
      ],
      "id": "afcbeffd-5b3d-429a-9880-23e2f3a2c3b5",
      "execution_count": 18,
      "outputs": [
        {
          "output_type": "stream",
          "text": [
            "/usr/local/lib/python3.7/dist-packages/torch/utils/data/dataloader.py:481: UserWarning: This DataLoader will create 8 worker processes in total. Our suggested max number of worker in current system is 2, which is smaller than what this DataLoader is going to create. Please be aware that excessive worker creation might get DataLoader running slow or even freeze, lower the worker number to avoid potential slowness/freeze if necessary.\n",
            "  cpuset_checked))\n"
          ],
          "name": "stderr"
        }
      ]
    },
    {
      "cell_type": "code",
      "metadata": {
        "colab": {
          "base_uri": "https://localhost:8080/"
        },
        "id": "1ca20c6f-9a45-4a43-92a4-90d141fb548a",
        "outputId": "4761bbc6-178b-4e9b-96ef-4dcf54827ef6"
      },
      "source": [
        "import random\n",
        "import math\n",
        "\n",
        "x, y = dataset[math.floor(random.random() * len(dataset))]\n",
        "x.shape, y.shape"
      ],
      "id": "1ca20c6f-9a45-4a43-92a4-90d141fb548a",
      "execution_count": 19,
      "outputs": [
        {
          "output_type": "execute_result",
          "data": {
            "text/plain": [
              "(torch.Size([3, 299, 299]), torch.Size([16]))"
            ]
          },
          "metadata": {
            "tags": []
          },
          "execution_count": 19
        }
      ]
    },
    {
      "cell_type": "code",
      "metadata": {
        "colab": {
          "base_uri": "https://localhost:8080/",
          "height": 337
        },
        "id": "9744314e-a208-448c-9da4-a68223127ffb",
        "outputId": "a6794a5c-93ab-433b-d0e2-745daa13a798"
      },
      "source": [
        "import matplotlib.pyplot as plt\n",
        "\n",
        "plt.imshow(x.permute(1,2,0))\n",
        "print(y)\n",
        "\n",
        "# print(dataset.vocab.itos[1])\n",
        "\n",
        "for i in y:\n",
        "    print(dataset.vocab.itos[int(i)],end=\" \")"
      ],
      "id": "9744314e-a208-448c-9da4-a68223127ffb",
      "execution_count": 20,
      "outputs": [
        {
          "output_type": "stream",
          "text": [
            "Clipping input data to the valid range for imshow with RGB data ([0..1] for floats or [0..255] for integers).\n"
          ],
          "name": "stderr"
        },
        {
          "output_type": "stream",
          "text": [
            "tensor([   1,    4,   80,    8,    4,   21,   83,   16,  350,  141,   75,    8,\n",
            "           4, 2239,    5,    2])\n",
            "<SOS> a woman in a white shirt and dark jacket stands in a marsh . <EOS> "
          ],
          "name": "stdout"
        },
        {
          "output_type": "display_data",
          "data": {
            "image/png": "[encoded data removed]",
            "text/plain": [
              "<Figure size 432x288 with 1 Axes>"
            ]
          },
          "metadata": {
            "tags": [],
            "needs_background": "light"
          }
        }
      ]
    },
    {
      "cell_type": "code",
      "metadata": {
        "id": "jo_uatJLtElt"
      },
      "source": [
        "from torch.utils.tensorboard import SummaryWriter"
      ],
      "id": "jo_uatJLtElt",
      "execution_count": 13,
      "outputs": []
    },
    {
      "cell_type": "code",
      "metadata": {
        "id": "9RJCejystVS5"
      },
      "source": [
        "writer = SummaryWriter(\"/content/drive/My Drive/runs/flickr\")\n",
        "step = 0"
      ],
      "id": "9RJCejystVS5",
      "execution_count": 14,
      "outputs": []
    },
    {
      "cell_type": "code",
      "metadata": {
        "id": "a18ea762-5138-4f3b-9ef6-82e726cdd5de"
      },
      "source": [
        "import torch\n",
        "import torchvision.transforms as transforms\n",
        "from PIL import Image\n",
        "\n",
        "\n",
        "def print_examples(model, device, dataset):\n",
        "    transform = transforms.Compose(\n",
        "        [\n",
        "            transforms.Resize((299, 299)),\n",
        "            transforms.ToTensor(),\n",
        "            transforms.Normalize((0.5, 0.5, 0.5), (0.5, 0.5, 0.5)),\n",
        "        ]\n",
        "    )\n",
        "\n",
        "    model.eval()\n",
        "    test_img1 = transform(Image.open(\"/content/drive/My Drive/test_examples/dog.jpg\").convert(\"RGB\")).unsqueeze(\n",
        "        0\n",
        "    )\n",
        "    print(\"Example 1 CORRECT: Dog on a beach by the ocean\")\n",
        "    print(\n",
        "        \"Example 1 OUTPUT: \"\n",
        "        + \" \".join(model.caption_image(test_img1.to(device), dataset.vocab))\n",
        "    )\n",
        "    test_img2 = transform(\n",
        "        Image.open(\"/content/drive/My Drive/test_examples/child.jpg\").convert(\"RGB\")\n",
        "    ).unsqueeze(0)\n",
        "    print(\"Example 2 CORRECT: Child holding red frisbee outdoors\")\n",
        "    print(\n",
        "        \"Example 2 OUTPUT: \"\n",
        "        + \" \".join(model.caption_image(test_img2.to(device), dataset.vocab))\n",
        "    )\n",
        "    test_img3 = transform(Image.open(\"/content/drive/My Drive/test_examples/bus.png\").convert(\"RGB\")).unsqueeze(\n",
        "        0\n",
        "    )\n",
        "    print(\"Example 3 CORRECT: Bus driving by parked cars\")\n",
        "    print(\n",
        "        \"Example 3 OUTPUT: \"\n",
        "        + \" \".join(model.caption_image(test_img3.to(device), dataset.vocab))\n",
        "    )\n",
        "    test_img4 = transform(\n",
        "        Image.open(\"/content/drive/My Drive/test_examples/boat.png\").convert(\"RGB\")\n",
        "    ).unsqueeze(0)\n",
        "    print(\"Example 4 CORRECT: A small boat in the ocean\")\n",
        "    print(\n",
        "        \"Example 4 OUTPUT: \"\n",
        "        + \" \".join(model.caption_image(test_img4.to(device), dataset.vocab))\n",
        "    )\n",
        "    test_img5 = transform(\n",
        "        Image.open(\"/content/drive/My Drive/test_examples/horse.png\").convert(\"RGB\")\n",
        "    ).unsqueeze(0)\n",
        "    print(\"Example 5 CORRECT: A cowboy riding a horse in the desert\")\n",
        "    print(\n",
        "        \"Example 5 OUTPUT: \"\n",
        "        + \" \".join(model.caption_image(test_img5.to(device), dataset.vocab))\n",
        "    )\n",
        "    model.train()\n"
      ],
      "id": "a18ea762-5138-4f3b-9ef6-82e726cdd5de",
      "execution_count": 15,
      "outputs": []
    },
    {
      "cell_type": "code",
      "metadata": {
        "id": "R_SOX83_LHIu"
      },
      "source": [
        "def train():\n",
        "    transform = transforms.Compose(\n",
        "        [\n",
        "            transforms.Resize((356, 356)),\n",
        "            transforms.RandomCrop((299, 299)),\n",
        "            transforms.ToTensor(),\n",
        "            transforms.Normalize((0.5, 0.5, 0.5), (0.5, 0.5, 0.5)),\n",
        "        ]\n",
        "    )\n",
        "\n",
        "    train_loader, dataset = get_loader(\n",
        "        root_folder=\"/content/drive/My Drive/flickr8k/images\",\n",
        "        annotation_file=\"/content/drive/My Drive/flickr8k/captions.txt\",\n",
        "        transform=transform,\n",
        "        num_workers=2,\n",
        "    )\n",
        "\n",
        "    torch.backends.cudnn.benchmark = True\n",
        "    device = torch.device(\"cuda\" if torch.cuda.is_available() else \"cpu\")\n",
        "    load_model = False\n",
        "    save_model = False\n",
        "    train_CNN = False\n",
        "\n",
        "    # Hyperparameters\n",
        "    embed_size = 256\n",
        "    hidden_size = 256\n",
        "    vocab_size = len(dataset.vocab)\n",
        "    num_layers = 1\n",
        "    learning_rate = 3e-4\n",
        "    num_epochs = 100\n",
        "\n",
        "    # for tensorboard\n",
        "    writer = SummaryWriter(\"runs/flickr\")\n",
        "    step = 0\n",
        "\n",
        "    # initialize model, loss etc\n",
        "    model = CNNtoRNN(embed_size, hidden_size, vocab_size, num_layers).to(device)\n",
        "    criterion = nn.CrossEntropyLoss(ignore_index=dataset.vocab.stoi[\"<PAD>\"])\n",
        "    optimizer = optim.Adam(model.parameters(), lr=learning_rate)\n",
        "\n",
        "    # Only finetune the CNN\n",
        "    for name, param in model.encoderCNN.inception.named_parameters():\n",
        "        if \"fc.weight\" in name or \"fc.bias\" in name:\n",
        "            param.requires_grad = True\n",
        "        else:\n",
        "            param.requires_grad = train_CNN\n",
        "\n",
        "    if load_model:\n",
        "        step = load_checkpoint(torch.load(\"my_checkpoint.pth.tar\"), model, optimizer)\n",
        "\n",
        "    model.train()\n",
        "\n",
        "    for epoch in range(num_epochs):\n",
        "        # Uncomment the line below to see a couple of test cases\n",
        "        print_examples(model, device, dataset)\n",
        "\n",
        "        if save_model:\n",
        "            checkpoint = {\n",
        "                \"state_dict\": model.state_dict(),\n",
        "                \"optimizer\": optimizer.state_dict(),\n",
        "                \"step\": step,\n",
        "            }\n",
        "            save_checkpoint(checkpoint)\n",
        "\n",
        "        for idx, (imgs, captions) in tqdm(\n",
        "            enumerate(train_loader), total=len(train_loader), leave=False\n",
        "        ):\n",
        "            imgs = imgs.to(device)\n",
        "            captions = captions.to(device)\n",
        "\n",
        "            outputs = model(imgs, captions[:-1])\n",
        "            loss = criterion(\n",
        "                outputs.reshape(-1, outputs.shape[2]), captions.reshape(-1)\n",
        "            )\n",
        "\n",
        "            writer.add_scalar(\"Training loss\", loss.item(), global_step=step)\n",
        "            step += 1\n",
        "\n",
        "            optimizer.zero_grad()\n",
        "            loss.backward(loss)\n",
        "            optimizer.step()\n",
        "        print(f\"Loss for epoch {epoch}: {loss}\")"
      ],
      "id": "R_SOX83_LHIu",
      "execution_count": 21,
      "outputs": []
    },
    {
      "cell_type": "code",
      "metadata": {
        "colab": {
          "base_uri": "https://localhost:8080/"
        },
        "id": "Knu3MHXJLyzq",
        "outputId": "b9a09ac7-4527-4ad8-8a5f-121a4743739a"
      },
      "source": [
        "train()"
      ],
      "id": "Knu3MHXJLyzq",
      "execution_count": null,
      "outputs": [
        {
          "output_type": "stream",
          "text": [
            "Example 1 CORRECT: Dog on a beach by the ocean\n",
            "Example 1 OUTPUT: benches built rowboat unfinished motorcyclists trick handles skyline good claus runners female ladder few sand leads sprayed bulldog observing goat spout peanut swings sandy pyramid starting training starting funny seal seal seal played soda cowboy bottle overlooks resort carries hold hides cutting ninja college surrounding opening garden incline incline built\n",
            "Example 2 CORRECT: Child holding red frisbee outdoors\n",
            "Example 2 OUTPUT: benches built rowboat unfinished motorcyclists trick handles skyline good claus runners female ladder few sand leads sprayed bulldog observing goat spout peanut swings sandy pyramid starting training starting funny seal seal seal played soda cowboy bottle overlooks resort carries hold hides cutting ninja college surrounding opening garden incline incline built\n",
            "Example 3 CORRECT: Bus driving by parked cars\n",
            "Example 3 OUTPUT: entrance tripod fence front camel lasso pooh pick blindfolded backdrop parachuting pasta bandanna sparkler performer hula bounce excited hips milk plain halter graffiti flower cage compete foliage sledding book athletes tricycle tricycle hovering within thin counter thin streaks transportation runners camels sparklers diner dust letters scuba sash cups deck teal\n",
            "Example 4 CORRECT: A small boat in the ocean\n",
            "Example 4 OUTPUT: knife rings black handrail disc hiker bar kiddie give skateboarder device fellow \" offering main hovering benches rowboat map card card abandoned students moves harbor right scooters slope bay cup moves harbor firefighter countryside referee played groom christmas christmas handles creating hard british camouflage moon waist pasta make bottom shop\n",
            "Example 5 CORRECT: A cowboy riding a horse in the desert\n",
            "Example 5 OUTPUT: benches built rowboat unfinished motorcyclists trick handles skyline good claus runners female ladder few sand leads sprayed bulldog observing goat spout peanut swings sandy pyramid starting training starting funny seal seal seal played soda cowboy bottle overlooks resort carries hold hides cutting ninja college surrounding opening garden incline incline built\n"
          ],
          "name": "stdout"
        },
        {
          "output_type": "stream",
          "text": [
            ""
          ],
          "name": "stderr"
        },
        {
          "output_type": "stream",
          "text": [
            "Example 1 CORRECT: Dog on a beach by the ocean\n",
            "Example 1 OUTPUT: <SOS> a man in a red shirt is jumping on a <UNK> . <EOS>\n",
            "Example 2 CORRECT: Child holding red frisbee outdoors\n",
            "Example 2 OUTPUT: <SOS> a man in a red shirt is jumping on a <UNK> . <EOS>\n",
            "Example 3 CORRECT: Bus driving by parked cars\n",
            "Example 3 OUTPUT: <SOS> a man in a red shirt is jumping on a <UNK> . <EOS>\n",
            "Example 4 CORRECT: A small boat in the ocean\n",
            "Example 4 OUTPUT: <SOS> a man in a red shirt is jumping on a <UNK> . <EOS>\n",
            "Example 5 CORRECT: A cowboy riding a horse in the desert\n",
            "Example 5 OUTPUT: <SOS> a man in a red shirt is jumping on a <UNK> . <EOS>\n"
          ],
          "name": "stdout"
        },
        {
          "output_type": "stream",
          "text": [
            ""
          ],
          "name": "stderr"
        },
        {
          "output_type": "stream",
          "text": [
            "Example 1 CORRECT: Dog on a beach by the ocean\n",
            "Example 1 OUTPUT: <SOS> a man in a red shirt is standing in a field . <EOS>\n",
            "Example 2 CORRECT: Child holding red frisbee outdoors\n",
            "Example 2 OUTPUT: <SOS> a man in a red shirt is standing in a field . <EOS>\n",
            "Example 3 CORRECT: Bus driving by parked cars\n",
            "Example 3 OUTPUT: <SOS> a man in a red shirt is standing in a field . <EOS>\n",
            "Example 4 CORRECT: A small boat in the ocean\n",
            "Example 4 OUTPUT: <SOS> a man in a red shirt is standing in a field . <EOS>\n",
            "Example 5 CORRECT: A cowboy riding a horse in the desert\n",
            "Example 5 OUTPUT: <SOS> a man in a red shirt is standing in a field . <EOS>\n"
          ],
          "name": "stdout"
        },
        {
          "output_type": "stream",
          "text": [
            ""
          ],
          "name": "stderr"
        },
        {
          "output_type": "stream",
          "text": [
            "Example 1 CORRECT: Dog on a beach by the ocean\n",
            "Example 1 OUTPUT: <SOS> a dog is running through the grass . <EOS>\n",
            "Example 2 CORRECT: Child holding red frisbee outdoors\n",
            "Example 2 OUTPUT: <SOS> a man in a red shirt and a black shirt is standing on a bench . <EOS>\n",
            "Example 3 CORRECT: Bus driving by parked cars\n",
            "Example 3 OUTPUT: <SOS> a man in a red shirt and a black shirt and a black shirt is standing in the snow . <EOS>\n",
            "Example 4 CORRECT: A small boat in the ocean\n",
            "Example 4 OUTPUT: <SOS> a man in a black shirt and a black shirt and a black and white shirt is standing in the snow . <EOS>\n",
            "Example 5 CORRECT: A cowboy riding a horse in the desert\n",
            "Example 5 OUTPUT: <SOS> a dog is running through the grass . <EOS>\n"
          ],
          "name": "stdout"
        },
        {
          "output_type": "stream",
          "text": [
            ""
          ],
          "name": "stderr"
        },
        {
          "output_type": "stream",
          "text": [
            "Example 1 CORRECT: Dog on a beach by the ocean\n",
            "Example 1 OUTPUT: <SOS> a dog is running through the grass . <EOS>\n",
            "Example 2 CORRECT: Child holding red frisbee outdoors\n",
            "Example 2 OUTPUT: <SOS> a young boy in a blue shirt is jumping into a pool . <EOS>\n",
            "Example 3 CORRECT: Bus driving by parked cars\n",
            "Example 3 OUTPUT: <SOS> a man in a red shirt and a black hat and a red hat is standing in front of a crowd . <EOS>\n",
            "Example 4 CORRECT: A small boat in the ocean\n",
            "Example 4 OUTPUT: <SOS> a man in a red shirt is standing on a rock . <EOS>\n",
            "Example 5 CORRECT: A cowboy riding a horse in the desert\n",
            "Example 5 OUTPUT: <SOS> a dog is running through the grass . <EOS>\n"
          ],
          "name": "stdout"
        },
        {
          "output_type": "stream",
          "text": [
            ""
          ],
          "name": "stderr"
        },
        {
          "output_type": "stream",
          "text": [
            "Example 1 CORRECT: Dog on a beach by the ocean\n",
            "Example 1 OUTPUT: <SOS> a dog is running through the grass . <EOS>\n",
            "Example 2 CORRECT: Child holding red frisbee outdoors\n",
            "Example 2 OUTPUT: <SOS> a young girl in a pink shirt is playing with a ball in a pool . <EOS>\n",
            "Example 3 CORRECT: Bus driving by parked cars\n",
            "Example 3 OUTPUT: <SOS> a man in a white shirt and a black hat is standing in front of a building . <EOS>\n",
            "Example 4 CORRECT: A small boat in the ocean\n",
            "Example 4 OUTPUT: <SOS> a man in a blue shirt is riding a bike in the air . <EOS>\n",
            "Example 5 CORRECT: A cowboy riding a horse in the desert\n",
            "Example 5 OUTPUT: <SOS> a dog is running through the snow . <EOS>\n"
          ],
          "name": "stdout"
        },
        {
          "output_type": "stream",
          "text": [
            ""
          ],
          "name": "stderr"
        },
        {
          "output_type": "stream",
          "text": [
            "Example 1 CORRECT: Dog on a beach by the ocean\n",
            "Example 1 OUTPUT: <SOS> a dog is running through the grass . <EOS>\n",
            "Example 2 CORRECT: Child holding red frisbee outdoors\n",
            "Example 2 OUTPUT: <SOS> a little girl in a pink shirt is jumping into the air . <EOS>\n",
            "Example 3 CORRECT: Bus driving by parked cars\n",
            "Example 3 OUTPUT: <SOS> a man in a black shirt and a black hat is standing in front of a building . <EOS>\n",
            "Example 4 CORRECT: A small boat in the ocean\n",
            "Example 4 OUTPUT: <SOS> a man in a red shirt is riding a bike in the air . <EOS>\n",
            "Example 5 CORRECT: A cowboy riding a horse in the desert\n",
            "Example 5 OUTPUT: <SOS> a dog is running through the grass . <EOS>\n"
          ],
          "name": "stdout"
        },
        {
          "output_type": "stream",
          "text": [
            ""
          ],
          "name": "stderr"
        },
        {
          "output_type": "stream",
          "text": [
            "Example 1 CORRECT: Dog on a beach by the ocean\n",
            "Example 1 OUTPUT: <SOS> a dog is running through the snow . <EOS>\n",
            "Example 2 CORRECT: Child holding red frisbee outdoors\n",
            "Example 2 OUTPUT: <SOS> a young boy in a blue shirt and a blue shirt is jumping into a pool . <EOS>\n",
            "Example 3 CORRECT: Bus driving by parked cars\n",
            "Example 3 OUTPUT: <SOS> a man in a red shirt and a black hat is standing in front of a building . <EOS>\n",
            "Example 4 CORRECT: A small boat in the ocean\n",
            "Example 4 OUTPUT: <SOS> a man in a blue shirt is jumping in the air . <EOS>\n",
            "Example 5 CORRECT: A cowboy riding a horse in the desert\n",
            "Example 5 OUTPUT: <SOS> a dog is jumping over a hurdle . <EOS>\n"
          ],
          "name": "stdout"
        },
        {
          "output_type": "stream",
          "text": [
            ""
          ],
          "name": "stderr"
        },
        {
          "output_type": "stream",
          "text": [
            "Example 1 CORRECT: Dog on a beach by the ocean\n",
            "Example 1 OUTPUT: <SOS> a dog is running through the grass . <EOS>\n",
            "Example 2 CORRECT: Child holding red frisbee outdoors\n",
            "Example 2 OUTPUT: <SOS> a young girl in a pink shirt is running through a field of grass . <EOS>\n",
            "Example 3 CORRECT: Bus driving by parked cars\n",
            "Example 3 OUTPUT: <SOS> a man in a red shirt is standing on a bench . <EOS>\n",
            "Example 4 CORRECT: A small boat in the ocean\n",
            "Example 4 OUTPUT: <SOS> a man in a blue shirt is surfing a wave . <EOS>\n",
            "Example 5 CORRECT: A cowboy riding a horse in the desert\n",
            "Example 5 OUTPUT: <SOS> a man is standing in the snow with a dog . <EOS>\n"
          ],
          "name": "stdout"
        },
        {
          "output_type": "stream",
          "text": [
            "  0%|          | 1/1265 [00:00<16:34,  1.27it/s]"
          ],
          "name": "stderr"
        }
      ]
    }
  ]
}